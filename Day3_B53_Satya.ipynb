{
 "cells": [
  {
   "cell_type": "code",
   "execution_count": 2,
   "id": "909832f0",
   "metadata": {},
   "outputs": [],
   "source": [
    "firstname = \"satya\"\n",
    "lastname = \"narayana\""
   ]
  },
  {
   "cell_type": "code",
   "execution_count": 3,
   "id": "b90a2274",
   "metadata": {},
   "outputs": [],
   "source": [
    "fullname = f\"{firstname} {lastname}\""
   ]
  },
  {
   "cell_type": "code",
   "execution_count": 4,
   "id": "cb9eb80b",
   "metadata": {},
   "outputs": [
    {
     "name": "stdout",
     "output_type": "stream",
     "text": [
      "satya narayana\n"
     ]
    }
   ],
   "source": [
    " print(fullname)"
   ]
  },
  {
   "cell_type": "code",
   "execution_count": 20,
   "id": "655abdfd",
   "metadata": {},
   "outputs": [],
   "source": [
    "fullname = f\"hello {firstname} {lastname}\""
   ]
  },
  {
   "cell_type": "code",
   "execution_count": 21,
   "id": "5e031aed",
   "metadata": {},
   "outputs": [
    {
     "name": "stdout",
     "output_type": "stream",
     "text": [
      "hello satya narayana\n"
     ]
    }
   ],
   "source": [
    "print(fullname)"
   ]
  },
  {
   "cell_type": "code",
   "execution_count": 26,
   "id": "fcb2d5f9",
   "metadata": {},
   "outputs": [
    {
     "name": "stdout",
     "output_type": "stream",
     "text": [
      "Hello Satya Narayana\n"
     ]
    }
   ],
   "source": [
    "print(fullname.title()) "
   ]
  },
  {
   "cell_type": "code",
   "execution_count": 27,
   "id": "d356f2b5",
   "metadata": {},
   "outputs": [],
   "source": [
    "fullname = f\"This is a Emp Name - {firstname} {lastname}\""
   ]
  },
  {
   "cell_type": "code",
   "execution_count": 28,
   "id": "c0e59a4f",
   "metadata": {
    "scrolled": true
   },
   "outputs": [
    {
     "name": "stdout",
     "output_type": "stream",
     "text": [
      "This is a Emp Name - satya narayana\n"
     ]
    }
   ],
   "source": [
    " print(fullname)"
   ]
  },
  {
   "cell_type": "code",
   "execution_count": 32,
   "id": "33e6341f",
   "metadata": {},
   "outputs": [
    {
     "name": "stdout",
     "output_type": "stream",
     "text": [
      "Fav_Language:pyhton c++ java cobal oracle\n"
     ]
    }
   ],
   "source": [
    "print(\"Fav_Language:pyhton c++ java cobal oracle\")"
   ]
  },
  {
   "cell_type": "code",
   "execution_count": 38,
   "id": "cdbac061",
   "metadata": {},
   "outputs": [
    {
     "name": "stdout",
     "output_type": "stream",
     "text": [
      "Fav_Language:\n",
      "pyhton\n",
      "c++\n",
      "java\n",
      "cobal\n",
      "oracle\n"
     ]
    }
   ],
   "source": [
    "print(\"Fav_Language:\\npyhton\\nc++\\njava\\ncobal\\noracle\")"
   ]
  },
  {
   "cell_type": "code",
   "execution_count": 40,
   "id": "752cb246",
   "metadata": {},
   "outputs": [
    {
     "name": "stdout",
     "output_type": "stream",
     "text": [
      "Fav_Language:\n",
      "\tpyhton \n",
      "\tc++ \n",
      "\tjava \n",
      "\tcobal \n",
      "\toracle\n"
     ]
    }
   ],
   "source": [
    "print(\"Fav_Language:\\n\\tpyhton \\n\\tc++ \\n\\tjava \\n\\tcobal \\n\\toracle\")"
   ]
  },
  {
   "cell_type": "code",
   "execution_count": 53,
   "id": "36c178ee",
   "metadata": {},
   "outputs": [
    {
     "name": "stdout",
     "output_type": "stream",
     "text": [
      "Roomats : \n",
      "\tSatya \n",
      "\tSuresh \n",
      "\tMukesh \n",
      "\tVenky \n",
      "\tSai\n"
     ]
    }
   ],
   "source": [
    "print(\"Roomats : \\n\\tsatya \\n\\tsuresh \\n\\tmukesh \\n\\tvenky \\n\\tsai\".title())"
   ]
  },
  {
   "cell_type": "code",
   "execution_count": 54,
   "id": "7f6251cc",
   "metadata": {},
   "outputs": [
    {
     "name": "stdout",
     "output_type": "stream",
     "text": [
      "ROOMATS : \n",
      "\tSATYA \n",
      "\tSURESH \n",
      "\tMUKESH \n",
      "\tVENKY \n",
      "\tSAI\n"
     ]
    }
   ],
   "source": [
    "print(\"Roomats : \\n\\tsatya \\n\\tsuresh \\n\\tmukesh \\n\\tvenky \\n\\tsai\".upper())"
   ]
  },
  {
   "cell_type": "code",
   "execution_count": 55,
   "id": "5414559d",
   "metadata": {},
   "outputs": [],
   "source": [
    "name1='   mukesh'"
   ]
  },
  {
   "cell_type": "code",
   "execution_count": 56,
   "id": "f7ba1292",
   "metadata": {},
   "outputs": [
    {
     "name": "stdout",
     "output_type": "stream",
     "text": [
      "   mukesh\n"
     ]
    }
   ],
   "source": [
    "print(name1)"
   ]
  },
  {
   "cell_type": "code",
   "execution_count": 57,
   "id": "55d5d1df",
   "metadata": {},
   "outputs": [
    {
     "data": {
      "text/plain": [
       "'mukesh'"
      ]
     },
     "execution_count": 57,
     "metadata": {},
     "output_type": "execute_result"
    }
   ],
   "source": [
    "name1.lstrip()"
   ]
  },
  {
   "cell_type": "code",
   "execution_count": 58,
   "id": "5295e816",
   "metadata": {},
   "outputs": [],
   "source": [
    "name2=\"satish   \""
   ]
  },
  {
   "cell_type": "code",
   "execution_count": 59,
   "id": "2b44faa7",
   "metadata": {},
   "outputs": [
    {
     "name": "stdout",
     "output_type": "stream",
     "text": [
      "satish   \n"
     ]
    }
   ],
   "source": [
    "print(name2)"
   ]
  },
  {
   "cell_type": "code",
   "execution_count": 61,
   "id": "3f9d6ab9",
   "metadata": {},
   "outputs": [
    {
     "data": {
      "text/plain": [
       "'satish'"
      ]
     },
     "execution_count": 61,
     "metadata": {},
     "output_type": "execute_result"
    }
   ],
   "source": [
    "name2.rstrip()"
   ]
  },
  {
   "cell_type": "code",
   "execution_count": 62,
   "id": "c1b69671",
   "metadata": {},
   "outputs": [],
   "source": [
    "name3='   mahesh   '"
   ]
  },
  {
   "cell_type": "code",
   "execution_count": 63,
   "id": "47e4672d",
   "metadata": {},
   "outputs": [
    {
     "name": "stdout",
     "output_type": "stream",
     "text": [
      "   mahesh   \n"
     ]
    }
   ],
   "source": [
    "print(name3)"
   ]
  },
  {
   "cell_type": "code",
   "execution_count": 64,
   "id": "0843fc54",
   "metadata": {},
   "outputs": [
    {
     "data": {
      "text/plain": [
       "'mahesh'"
      ]
     },
     "execution_count": 64,
     "metadata": {},
     "output_type": "execute_result"
    }
   ],
   "source": [
    "name3.strip()"
   ]
  },
  {
   "cell_type": "code",
   "execution_count": 68,
   "id": "0e483ef7",
   "metadata": {},
   "outputs": [],
   "source": [
    "firstname = \"   satya\"\n",
    "lastname = \"narayana  \""
   ]
  },
  {
   "cell_type": "code",
   "execution_count": 81,
   "id": "63e78fa8",
   "metadata": {},
   "outputs": [],
   "source": [
    "fullname = f\"{firstname.lstrip()}{lastname.rstrip()}\""
   ]
  },
  {
   "cell_type": "code",
   "execution_count": 82,
   "id": "27c97b0a",
   "metadata": {},
   "outputs": [
    {
     "name": "stdout",
     "output_type": "stream",
     "text": [
      "Satyanarayana\n"
     ]
    }
   ],
   "source": [
    "print(fullname.title())"
   ]
  },
  {
   "cell_type": "code",
   "execution_count": 83,
   "id": "952accc1",
   "metadata": {},
   "outputs": [
    {
     "name": "stdout",
     "output_type": "stream",
     "text": [
      "SATYANARAYANA\n"
     ]
    }
   ],
   "source": [
    "print(fullname.upper())"
   ]
  },
  {
   "cell_type": "markdown",
   "id": "fe92a215",
   "metadata": {},
   "source": []
  },
  {
   "cell_type": "code",
   "execution_count": null,
   "id": "9e2eb411",
   "metadata": {},
   "outputs": [],
   "source": []
  },
  {
   "cell_type": "code",
   "execution_count": null,
   "id": "bb38a35d",
   "metadata": {},
   "outputs": [],
   "source": []
  },
  {
   "cell_type": "code",
   "execution_count": null,
   "id": "5a8926c4",
   "metadata": {},
   "outputs": [],
   "source": []
  },
  {
   "cell_type": "markdown",
   "id": "d9eee5c4",
   "metadata": {},
   "source": []
  },
  {
   "cell_type": "code",
   "execution_count": null,
   "id": "c0eda64b",
   "metadata": {},
   "outputs": [],
   "source": []
  },
  {
   "cell_type": "code",
   "execution_count": null,
   "id": "4c28b3fe",
   "metadata": {},
   "outputs": [],
   "source": []
  },
  {
   "cell_type": "code",
   "execution_count": null,
   "id": "fd6b3542",
   "metadata": {},
   "outputs": [],
   "source": []
  },
  {
   "cell_type": "code",
   "execution_count": null,
   "id": "db3f2056",
   "metadata": {},
   "outputs": [],
   "source": []
  },
  {
   "cell_type": "code",
   "execution_count": null,
   "id": "e8e95c87",
   "metadata": {},
   "outputs": [],
   "source": []
  },
  {
   "cell_type": "markdown",
   "id": "27f4d535",
   "metadata": {},
   "source": []
  },
  {
   "cell_type": "code",
   "execution_count": null,
   "id": "f53c99b6",
   "metadata": {},
   "outputs": [],
   "source": []
  },
  {
   "cell_type": "code",
   "execution_count": null,
   "id": "49a86119",
   "metadata": {},
   "outputs": [],
   "source": []
  },
  {
   "cell_type": "markdown",
   "id": "27606bd7",
   "metadata": {},
   "source": []
  },
  {
   "cell_type": "code",
   "execution_count": null,
   "id": "8ec73c93",
   "metadata": {},
   "outputs": [],
   "source": []
  },
  {
   "cell_type": "markdown",
   "id": "ed611e73",
   "metadata": {},
   "source": []
  },
  {
   "cell_type": "code",
   "execution_count": null,
   "id": "336e7eaf",
   "metadata": {},
   "outputs": [],
   "source": []
  },
  {
   "cell_type": "code",
   "execution_count": null,
   "id": "9eff6c31",
   "metadata": {},
   "outputs": [],
   "source": []
  },
  {
   "cell_type": "markdown",
   "id": "01ec953a",
   "metadata": {},
   "source": []
  },
  {
   "cell_type": "code",
   "execution_count": null,
   "id": "7e195713",
   "metadata": {},
   "outputs": [],
   "source": []
  },
  {
   "cell_type": "code",
   "execution_count": null,
   "id": "bed7a163",
   "metadata": {},
   "outputs": [],
   "source": []
  },
  {
   "cell_type": "code",
   "execution_count": null,
   "id": "6bcaab90",
   "metadata": {},
   "outputs": [],
   "source": []
  },
  {
   "cell_type": "code",
   "execution_count": null,
   "id": "f86d049a",
   "metadata": {},
   "outputs": [],
   "source": []
  },
  {
   "cell_type": "code",
   "execution_count": null,
   "id": "2f5b1b3b",
   "metadata": {},
   "outputs": [],
   "source": []
  },
  {
   "cell_type": "code",
   "execution_count": null,
   "id": "90b40124",
   "metadata": {},
   "outputs": [],
   "source": []
  },
  {
   "cell_type": "code",
   "execution_count": null,
   "id": "fd559d87",
   "metadata": {},
   "outputs": [],
   "source": []
  }
 ],
 "metadata": {
  "kernelspec": {
   "display_name": "Python 3",
   "language": "python",
   "name": "python3"
  },
  "language_info": {
   "codemirror_mode": {
    "name": "ipython",
    "version": 3
   },
   "file_extension": ".py",
   "mimetype": "text/x-python",
   "name": "python",
   "nbconvert_exporter": "python",
   "pygments_lexer": "ipython3",
   "version": "3.8.8"
  }
 },
 "nbformat": 4,
 "nbformat_minor": 5
}
